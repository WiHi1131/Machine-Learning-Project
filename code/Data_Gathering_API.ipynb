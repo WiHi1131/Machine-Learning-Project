{
 "cells": [
  {
   "cell_type": "code",
   "execution_count": 31,
   "id": "a195b93d-0dfe-406f-81d1-5702082268ce",
   "metadata": {},
   "outputs": [],
   "source": [
    "import requests\n",
    "import time\n",
    "import json\n",
    "\n",
    "\n",
    "API_KEY = ''\n",
    "\n",
    "url = 'https://na1.api.riotgames.com/tft/league/v1/challenger?queue=RANKED_TFT&api_key=RGAPI-5d1cd49b-e13e-4a0f-b653-bc456de90fcd'\n",
    "\n",
    "headers = {\n",
    "    \"X-Riot-Token\": API_KEY\n",
    "}\n",
    "\n",
    "response = requests.get(url = url , headers = headers)\n",
    "\n",
    "data = response.json()"
   ]
  },
  {
   "cell_type": "code",
   "execution_count": 73,
   "id": "074f9183-934c-45fb-9413-f91799735826",
   "metadata": {},
   "outputs": [],
   "source": [
    "summoner_ids = []\n",
    "for entry in data[\"entries\"]:\n",
    "    summoner_ids.append(entry[\"summonerId\"])"
   ]
  },
  {
   "cell_type": "code",
   "execution_count": 51,
   "id": "4f8fe66f-ddc4-4030-bdba-6452d16f086a",
   "metadata": {},
   "outputs": [],
   "source": [
    "base_url = 'https://na1.api.riotgames.com/tft/summoner/v1/summoners/'\n",
    "\n",
    "summoners = []\n",
    "\n",
    "for ID in summoner_ids:\n",
    "    url = base_url + ID + '?api_key=' + API_KEY\n",
    "    response = requests.get(url=url, headers=headers)\n",
    "    summoners.append(response.json())\n",
    "    time.sleep(1) "
   ]
  },
  {
   "cell_type": "code",
   "execution_count": 54,
   "id": "d86210b0-1d6d-43c1-8963-2f4f983e75f6",
   "metadata": {},
   "outputs": [],
   "source": [
    "puuids = [summoner[\"puuid\"] for summoner in summoners]"
   ]
  },
  {
   "cell_type": "code",
   "execution_count": 59,
   "id": "a149240e-3703-4533-b55b-c622213e1fd3",
   "metadata": {},
   "outputs": [],
   "source": [
    "base_url = 'https://americas.api.riotgames.com/tft/match/v1/matches/by-puuid/'\n",
    "\n",
    "match_ids = []\n",
    "\n",
    "for puuid in puuids: \n",
    "    url = base_url + puuid + '/ids?start=0&count=10&api_key=' + API_KEY\n",
    "    response = requests.get(url = url, headers=headers)\n",
    "    match_ids.append(response.json())\n",
    "    time.sleep(1)"
   ]
  },
  {
   "cell_type": "code",
   "execution_count": 63,
   "id": "f6845883-5c9e-44f4-adaf-d9ff88c3f44e",
   "metadata": {},
   "outputs": [],
   "source": [
    "# 1. Flatten the list of lists into a single list\n",
    "flattened = [item for sublist in match_ids for item in sublist]"
   ]
  },
  {
   "cell_type": "code",
   "execution_count": 65,
   "id": "fbde7878-2f41-48c0-90a4-e4b0d1db5bf9",
   "metadata": {},
   "outputs": [
    {
     "name": "stdout",
     "output_type": "stream",
     "text": [
      "1489\n"
     ]
    }
   ],
   "source": [
    "# 2a. Remove duplicates without preserving order:\n",
    "unique_ids_set = list(set(flattened))\n",
    "print(len(unique_ids_set))"
   ]
  },
  {
   "cell_type": "code",
   "execution_count": 66,
   "id": "6a0c5dfb-1d0e-4cd2-9994-36c66026d51e",
   "metadata": {},
   "outputs": [
    {
     "data": {
      "text/plain": [
       "'NA1_5214474372'"
      ]
     },
     "execution_count": 66,
     "metadata": {},
     "output_type": "execute_result"
    }
   ],
   "source": [
    "unique_ids_set[0]"
   ]
  },
  {
   "cell_type": "code",
   "execution_count": 67,
   "id": "c58c64dd-037d-4335-acb5-c86658cec4f4",
   "metadata": {},
   "outputs": [],
   "source": [
    "base_url = 'https://americas.api.riotgames.com/tft/match/v1/matches/'\n",
    "\n",
    "match_data = []\n",
    "\n",
    "for match_id in unique_ids_set: \n",
    "    url = base_url + match_id + '?api_key=' + API_KEY\n",
    "    response = requests.get(url = url, headers=headers)\n",
    "    match_data.append(response.json())\n",
    "    time.sleep(1)"
   ]
  },
  {
   "cell_type": "code",
   "execution_count": 70,
   "id": "13f021a8-c2ad-4036-8826-af5d54a8ded2",
   "metadata": {},
   "outputs": [
    {
     "data": {
      "text/plain": [
       "1489"
      ]
     },
     "execution_count": 70,
     "metadata": {},
     "output_type": "execute_result"
    }
   ],
   "source": [
    "len(match_data)"
   ]
  },
  {
   "cell_type": "code",
   "execution_count": 71,
   "id": "cf302004-d912-499a-8a49-5ad8495fffaa",
   "metadata": {},
   "outputs": [],
   "source": [
    "with open(\"match_data.json\", \"w\") as file:\n",
    "    json.dump(match_data, file, indent=4)"
   ]
  },
  {
   "cell_type": "code",
   "execution_count": 2,
   "id": "8240baa7-7bd0-409f-8d65-1959f3874d2f",
   "metadata": {},
   "outputs": [],
   "source": [
    "import json\n",
    "import pandas as pd\n",
    "\n",
    "with open('match_data.json', 'r') as f:\n",
    "    data = json.load(f)\n",
    "\n",
    "data_set13 = []\n",
    "data_set4 = []\n",
    "\n",
    "\n",
    "for entry in data:\n",
    "    if 'info' in entry and 'tft_set_number' in entry['info']:\n",
    "        if entry['info']['tft_set_number'] == 13:\n",
    "            data_set13.append(entry)\n",
    "        elif entry['info']['tft_set_number'] == 4:\n",
    "            data_set4.append(entry)\n",
    "            \n",
    "with open('match_data_set13.json', 'w') as f:\n",
    "    json.dump(data_set13, f, indent=4)\n",
    "\n",
    "with open('match_data_set4.json', 'w') as f:\n",
    "    json.dump(data_set4, f, indent=4)"
   ]
  },
  {
   "cell_type": "code",
   "execution_count": 6,
   "id": "384e6537-8720-4f20-a3c4-c6e4bfbe55cf",
   "metadata": {},
   "outputs": [
    {
     "name": "stderr",
     "output_type": "stream",
     "text": [
      "IOPub data rate exceeded.\n",
      "The Jupyter server will temporarily stop sending output\n",
      "to the client in order to avoid crashing it.\n",
      "To change this limit, set the config variable\n",
      "`--ServerApp.iopub_data_rate_limit`.\n",
      "\n",
      "Current values:\n",
      "ServerApp.iopub_data_rate_limit=1000000.0 (bytes/sec)\n",
      "ServerApp.rate_limit_window=3.0 (secs)\n",
      "\n"
     ]
    }
   ],
   "source": [
    "import os\n",
    "\n",
    "# --- Step 1: Load the match_data_set13.json file ---\n",
    "with open('match_data_set13.json', 'r') as f:\n",
    "    data_set13 = json.load(f)\n",
    "\n",
    "# --- Step 2: Group entries by tft_set_game_type ---\n",
    "grouped_entries = {}\n",
    "\n",
    "for entry in data_set13:\n",
    "    # Ensure the entry has an 'info' section with 'tft_set_game_type'\n",
    "    if 'info' in entry and 'tft_set_game_type' in entry['info']:\n",
    "        game_type = entry['info']['tft_set_game_type']\n",
    "        # If this game type is not already a key, add it\n",
    "        if game_type not in grouped_entries:\n",
    "            grouped_entries[game_type] = []\n",
    "        grouped_entries[game_type].append(entry)\n",
    "    else:\n",
    "        print(\"Warning: Entry missing 'tft_set_game_type' in 'info'. Skipping entry:\", entry)\n",
    "\n",
    "# --- Step 3: Save each group to a separate JSON file ---\n",
    "for game_type, entries in grouped_entries.items():\n",
    "    # Create a safe file name by replacing spaces or special characters if needed.\n",
    "    # Here we replace spaces with underscores and remove slashes.\n",
    "    safe_game_type = game_type.replace(\" \", \"_\").replace(\"/\", \"_\")\n",
    "    filename = f\"match_data_set13_{safe_game_type}.json\"\n",
    "    with open(filename, 'w') as outfile:\n",
    "        json.dump(entries, outfile, indent=4)\n",
    "    print(f\"Saved {len(entries)} entries to {filename}\")"
   ]
  },
  {
   "cell_type": "code",
   "execution_count": null,
   "id": "34926bbf-1a20-4e7f-a373-12b25b277757",
   "metadata": {},
   "outputs": [],
   "source": []
  }
 ],
 "metadata": {
  "kernelspec": {
   "display_name": "Python 3 (ipykernel)",
   "language": "python",
   "name": "python3"
  },
  "language_info": {
   "codemirror_mode": {
    "name": "ipython",
    "version": 3
   },
   "file_extension": ".py",
   "mimetype": "text/x-python",
   "name": "python",
   "nbconvert_exporter": "python",
   "pygments_lexer": "ipython3",
   "version": "3.10.8"
  }
 },
 "nbformat": 4,
 "nbformat_minor": 5
}
